{
 "cells": [
  {
   "cell_type": "markdown",
   "metadata": {},
   "source": [
    "# Benchmark GSEA speed\n",
    "\n",
    "Compare speed of GSEApy, fGSEA, and blitzGSEA. The runtime of fGSEA is calculated in a separate notebook as it runs in an R environment."
   ]
  },
  {
   "cell_type": "code",
   "execution_count": 117,
   "metadata": {},
   "outputs": [],
   "source": [
    "%%capture\n",
    "!pip3 install git+https://github.com/MaayanLab/blitzgsea.git"
   ]
  },
  {
   "cell_type": "code",
   "execution_count": 118,
   "metadata": {},
   "outputs": [],
   "source": [
    "import importlib\n",
    "\n",
    "import blitzgsea as blitz\n",
    "importlib.reload(blitz)\n",
    "\n",
    "import gseapy\n",
    "\n",
    "import prismx as pxx\n",
    "import prismx as px\n",
    "importlib.reload(px)\n",
    "\n",
    "import time\n",
    "import pandas as pd\n",
    "import numpy as np\n",
    "\n",
    "from matplotlib import pyplot as plt"
   ]
  },
  {
   "cell_type": "code",
   "execution_count": 2,
   "metadata": {},
   "outputs": [],
   "source": [
    "signature = pd.read_csv(\"ageing_muscle_gtex.tsv\")\n",
    "library = blitz.enrichr.get_library(\"GO_Biological_Process_2021\")"
   ]
  },
  {
   "cell_type": "markdown",
   "metadata": {},
   "source": [
    "## blitzGSEA benchmark\n",
    "\n",
    "Calculate runtime for 6000 gene sets for different number of threads with signature cache turned off. The signature cache would avoid recalculating anchor parameters. Run blitzGSEA with signature cache activated ones. Only the probabilies will be caluclated. This step does not benefit from multi-threading as it is memory constraint."
   ]
  },
  {
   "cell_type": "code",
   "execution_count": 124,
   "metadata": {},
   "outputs": [
    {
     "name": "stdout",
     "output_type": "stream",
     "text": [
      "1\n"
     ]
    },
    {
     "name": "stderr",
     "output_type": "stream",
     "text": [
      "Calibration: 100%|██████████| 19/19 [00:16<00:00,  1.14it/s]\n",
      "Enrichment : 100%|██████████| 6036/6036 [00:04<00:00, 1378.80it/s]\n"
     ]
    },
    {
     "name": "stdout",
     "output_type": "stream",
     "text": [
      "2\n"
     ]
    },
    {
     "name": "stderr",
     "output_type": "stream",
     "text": [
      "Calibration: 100%|██████████| 19/19 [00:09<00:00,  1.96it/s]\n",
      "Enrichment : 100%|██████████| 6036/6036 [00:04<00:00, 1390.41it/s]\n"
     ]
    },
    {
     "name": "stdout",
     "output_type": "stream",
     "text": [
      "3\n"
     ]
    },
    {
     "name": "stderr",
     "output_type": "stream",
     "text": [
      "Calibration: 100%|██████████| 19/19 [00:06<00:00,  2.78it/s]\n",
      "Enrichment : 100%|██████████| 6036/6036 [00:04<00:00, 1398.84it/s]\n"
     ]
    },
    {
     "name": "stdout",
     "output_type": "stream",
     "text": [
      "4\n"
     ]
    },
    {
     "name": "stderr",
     "output_type": "stream",
     "text": [
      "Calibration: 100%|██████████| 19/19 [00:05<00:00,  3.47it/s]\n",
      "Enrichment : 100%|██████████| 6036/6036 [00:04<00:00, 1405.68it/s]\n"
     ]
    },
    {
     "name": "stdout",
     "output_type": "stream",
     "text": [
      "5\n"
     ]
    },
    {
     "name": "stderr",
     "output_type": "stream",
     "text": [
      "Calibration: 100%|██████████| 19/19 [00:04<00:00,  3.93it/s]\n",
      "Enrichment : 100%|██████████| 6036/6036 [00:04<00:00, 1404.65it/s]\n"
     ]
    },
    {
     "name": "stdout",
     "output_type": "stream",
     "text": [
      "6\n"
     ]
    },
    {
     "name": "stderr",
     "output_type": "stream",
     "text": [
      "Calibration: 100%|██████████| 19/19 [00:04<00:00,  3.93it/s]\n",
      "Enrichment : 100%|██████████| 6036/6036 [00:04<00:00, 1426.86it/s]\n"
     ]
    },
    {
     "name": "stdout",
     "output_type": "stream",
     "text": [
      "7\n"
     ]
    },
    {
     "name": "stderr",
     "output_type": "stream",
     "text": [
      "Calibration: 100%|██████████| 19/19 [00:04<00:00,  4.29it/s]\n",
      "Enrichment : 100%|██████████| 6036/6036 [00:04<00:00, 1412.08it/s]\n"
     ]
    },
    {
     "name": "stdout",
     "output_type": "stream",
     "text": [
      "[21.36675262451172, 14.334275007247925, 11.435843229293823, 10.072898626327515, 9.450721979141235, 9.389051675796509, 9.029001951217651]\n",
      "Use cached anchor parameters\n"
     ]
    },
    {
     "name": "stderr",
     "output_type": "stream",
     "text": [
      "Enrichment : 100%|██████████| 6036/6036 [00:04<00:00, 1413.69it/s]\n"
     ]
    }
   ],
   "source": [
    "tt = []\n",
    "for i in range(1,8):\n",
    "    print(i)\n",
    "    st = time.time()\n",
    "    blitz.gsea(signature, library, processes=i, permutations=1000, min_size=5, max_size=4000, signature_cache=False)\n",
    "    tt.append(time.time()-st)\n",
    "\n",
    "print(tt)\n",
    "\n",
    "st = time.time()\n",
    "blitz.gsea(signature, library, processes=1, permutations=1000, min_size=5, max_size=4000)\n",
    "sigcache = time.time()-st"
   ]
  },
  {
   "cell_type": "code",
   "execution_count": 10,
   "metadata": {},
   "outputs": [],
   "source": [
    "sigh = [sigcache]*len(tt)"
   ]
  },
  {
   "cell_type": "markdown",
   "metadata": {},
   "source": [
    "## Compute GSEApy runtime\n",
    "\n",
    "Library needs to be chunked due to very high memory requirements. Chunking does not slow down the algorithm significanltly."
   ]
  },
  {
   "cell_type": "code",
   "execution_count": null,
   "metadata": {},
   "outputs": [],
   "source": [
    "permutation_num = 1000\n",
    "max_lib_size = 100\n",
    "outdir='test/prerank_report_kegg'\n",
    "format='png'\n",
    "seed=1\n",
    "processes= 3\n",
    "\n",
    "gpy = []\n",
    "\n",
    "sig = signature.sort_values(1, ascending=False)\n",
    "sig = signature[~signature.index.duplicated(keep='first')]\n",
    "\n",
    "def chopped_gsea(rnk, gene_sets, processes, permutation_num=1000, max_lib_size=50, outdir='test/prerank_report_kegg', format='png', seed=1):\n",
    "    library_keys = list(gene_sets.keys())\n",
    "    chunks = [library_keys[i:i+max_lib_size] for i in range(0, len(library_keys), max_lib_size)]\n",
    "    results = []\n",
    "    for chunk in chunks:\n",
    "        tlib = {}\n",
    "        for k in chunk:\n",
    "            tlib[k] = gene_sets[k]\n",
    "        pre_res = gseapy.prerank(rnk=rnk, gene_sets=tlib, processes=processes, permutation_num=permutation_num, outdir=outdir, format=format, seed=seed)\n",
    "        results.append(pre_res.res2d)\n",
    "    return pd.concat(results)\n",
    "\n",
    "tt_gseapy = []\n",
    "for p in range(1,9):\n",
    "    st = time.time()\n",
    "    res2 = chopped_gsea(sig, library, p, permutation_num=permutation_num, max_lib_size=50)\n",
    "    et2 = time.time() - st\n",
    "    tt_gseapy.append(et2)"
   ]
  },
  {
   "cell_type": "markdown",
   "metadata": {},
   "source": [
    "## Plot results\n",
    "\n",
    "Plot the results for GSEApy, fGSEA, and blitzGSEA. Speed for GSEApy and fGSEA was precomputed. fGSEA does not support multi-threading and the average runtime is plotted as a constant."
   ]
  },
  {
   "cell_type": "code",
   "execution_count": 152,
   "metadata": {},
   "outputs": [
    {
     "data": {
      "image/png": "[encoded data removed]",
      "text/plain": [
       "<Figure size 432x288 with 2 Axes>"
      ]
     },
     "metadata": {
      "needs_background": "light"
     },
     "output_type": "display_data"
    }
   ],
   "source": [
    "width = 0.5\n",
    "labels = range(1,len(tt)+1)\n",
    "fgsea = [12.7578]*len(tt)\n",
    "x = np.array(range(1,len(tt)+1))*2\n",
    "xt = np.array(x)\n",
    "xt[0] = 3\n",
    "\n",
    "tt_gseapy = tt_gseapy[0:len(tt)]\n",
    "\n",
    "f, (ax, ax2) = plt.subplots(2, 1, sharex=True)\n",
    "\n",
    "rects1 = ax.bar(xt-0.25, tt, width, label='blitzGSEA (anchor)')\n",
    "rects2 = ax.bar(xt-0.25, sigh, width, label='blitzGSEA (prob)')\n",
    "rects3 = ax.bar(2, 12.7578, width, label='fGSEA')\n",
    "rects4 = ax.bar(2-0.5, 1830.63, width, label='GSEApy')\n",
    "#rects5 = ax.bar(xt+0.25, tt_gseapy, width, label='GSEApy')\n",
    "\n",
    "rects1 = ax2.bar(xt-[0.5,0,0,0,0,0,0], tt, width, label='blitzGSEA (anchor)')\n",
    "rects2 = ax2.bar(xt-[0.5,0,0,0,0,0,0], sigh, width, label='blitzGSEA (prob)')\n",
    "rects3 = ax2.bar(2, 12.7578, width, label='fGSEA')\n",
    "rects4 = ax2.bar(2-0.5, 200, width, label='GSEApy')\n",
    "\n",
    "d = .015  # how big to make the diagonal lines in axes coordinates\n",
    "# arguments to pass to plot, just so we don't keep repeating them\n",
    "kwargs = dict(transform=ax.transAxes, color='k', clip_on=False)\n",
    "ax.plot((-d, +d), (-d, +d), **kwargs)        # top-left diagonal\n",
    "ax.plot((1 - d, 1 + d), (-d, +d), **kwargs)  # top-right diagonal\n",
    "ax.tick_params(labelsize=16)\n",
    "\n",
    "kwargs.update(transform=ax2.transAxes)  # switch to the bottom axes\n",
    "ax2.plot((-d, +d), (1 - d, 1 + d), **kwargs)  # bottom-left diagonal\n",
    "ax2.plot((1 - d, 1 + d), (1 - d, 1 + d), **kwargs)  # bottom-right diagonal\n",
    "\n",
    "ax.set_ylim(min(tt_gseapy)-50, max(tt_gseapy)+50)  # outliers only\n",
    "ax2.set_ylim(0, 25)  # most of the data\n",
    "\n",
    "ax.spines['bottom'].set_visible(False)\n",
    "ax2.spines['top'].set_visible(False)\n",
    "ax.xaxis.tick_top()\n",
    "ax.tick_params(labeltop=False)  # don't put tick labels at the top\n",
    "ax2.xaxis.tick_bottom()\n",
    "\n",
    "ax.set_xticks(x)\n",
    "ax.set_xticklabels(labels)\n",
    "ax2.set_ylabel('seconds', fontsize=20)\n",
    "ax2.set_xlabel('threads', fontsize=20)\n",
    "plt.tick_params(labelsize=16)\n",
    "ax.legend(fontsize=16, frameon=False)\n",
    "\n",
    "plt.savefig(\"figures/speed_threads_fgsea.pdf\", bbox_inches='tight')"
   ]
  }
 ],
 "metadata": {
  "kernelspec": {
   "display_name": "Python 3",
   "language": "python",
   "name": "python3"
  },
  "language_info": {
   "codemirror_mode": {
    "name": "ipython",
    "version": 3
   },
   "file_extension": ".py",
   "mimetype": "text/x-python",
   "name": "python",
   "nbconvert_exporter": "python",
   "pygments_lexer": "ipython3",
   "version": "3.8.5"
  }
 },
 "nbformat": 4,
 "nbformat_minor": 4
}
