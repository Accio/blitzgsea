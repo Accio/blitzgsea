{
 "cells": [
  {
   "cell_type": "markdown",
   "metadata": {},
   "source": [
    "# fGSEA benchmark\n",
    "\n",
    "This jupyter notebook calculates the speed of fGSEA as well as the p-value consistency. We install the newest version of fGSEA from github."
   ]
  },
  {
   "cell_type": "code",
   "execution_count": 64,
   "metadata": {},
   "outputs": [
    {
     "name": "stderr",
     "output_type": "stream",
     "text": [
      "Loading required package: usethis\n",
      "\n",
      "Downloading GitHub repo ctlab/fgsea@HEAD\n",
      "\n"
     ]
    },
    {
     "name": "stdout",
     "output_type": "stream",
     "text": [
      "glue (1.5.1    -> 1.6.0   ) [CRAN]\n",
      "BH   (1.75.0-0 -> 1.78.0-0) [CRAN]\n"
     ]
    },
    {
     "name": "stderr",
     "output_type": "stream",
     "text": [
      "Installing 2 packages: glue, BH\n",
      "\n",
      "Installing packages into ‘/home/maayanlab/R/x86_64-pc-linux-gnu-library/4.1’\n",
      "(as ‘lib’ is unspecified)\n",
      "\n"
     ]
    },
    {
     "name": "stdout",
     "output_type": "stream",
     "text": [
      "\u001b[32m✔\u001b[39m  \u001b[90mchecking for file ‘/tmp/RtmpnZeecz/remotes1365b06aa9d141/ctlab-fgsea-37924a6/DESCRIPTION’\u001b[39m\u001b[36m\u001b[39m\n",
      "\u001b[90m─\u001b[39m\u001b[90m  \u001b[39m\u001b[90mpreparing ‘fgsea’:\u001b[39m\u001b[36m\u001b[39m\n",
      "\u001b[32m✔\u001b[39m  \u001b[90mchecking DESCRIPTION meta-information\u001b[39m\u001b[36m\u001b[39m\n",
      "\u001b[90m─\u001b[39m\u001b[90m  \u001b[39m\u001b[90mcleaning src\u001b[39m\u001b[36m\u001b[39m\n",
      "\u001b[90m─\u001b[39m\u001b[90m  \u001b[39m\u001b[90mchecking for LF line-endings in source and make files and shell scripts\u001b[39m\u001b[36m\u001b[39m\n",
      "\u001b[90m─\u001b[39m\u001b[90m  \u001b[39m\u001b[90mchecking for empty or unneeded directories\u001b[39m\u001b[36m\u001b[39m\n",
      "\u001b[90m─\u001b[39m\u001b[90m  \u001b[39m\u001b[90mbuilding ‘fgsea_1.21.0.tar.gz’\u001b[39m\u001b[36m\u001b[39m\n",
      "   \n",
      "\r"
     ]
    },
    {
     "name": "stderr",
     "output_type": "stream",
     "text": [
      "Installing package into ‘/home/maayanlab/R/x86_64-pc-linux-gnu-library/4.1’\n",
      "(as ‘lib’ is unspecified)\n",
      "\n"
     ]
    }
   ],
   "source": [
    "library(devtools)\n",
    "install_github(\"ctlab/fgsea\")"
   ]
  },
  {
   "cell_type": "code",
   "execution_count": 1,
   "metadata": {},
   "outputs": [],
   "source": [
    "library(fgsea)\n",
    "library(data.table)\n",
    "library(ggplot2)\n",
    "\n",
    "library(BiocParallel)\n",
    "register(SerialParam())"
   ]
  },
  {
   "cell_type": "code",
   "execution_count": 47,
   "metadata": {},
   "outputs": [],
   "source": [
    "sig = read.table(\"test/aging_muscle_gtex.tsv\", sep=\",\", header=T)\n",
    "signature = sig[,2]\n",
    "names(signature) = sig[,1]"
   ]
  },
  {
   "cell_type": "markdown",
   "metadata": {},
   "source": [
    "## Initializing gene set library\n",
    "\n",
    "The gene set library can be downloaded from Enrichr."
   ]
  },
  {
   "cell_type": "code",
   "execution_count": 45,
   "metadata": {},
   "outputs": [],
   "source": [
    "ll = readLines(\"test/GO_Biological_Process_2021.txt\")\n",
    "genes = list()\n",
    "gmt = list()\n",
    "for(l in ll){\n",
    "    sp = unlist(strsplit(l, \"\\t\"))\n",
    "    pname = sp[1]\n",
    "    gmt[[pname]] = sp[3:length(sp)]\n",
    "}"
   ]
  },
  {
   "cell_type": "markdown",
   "metadata": {},
   "source": [
    "## Run fGSEA"
   ]
  },
  {
   "cell_type": "code",
   "execution_count": 48,
   "metadata": {},
   "outputs": [
    {
     "name": "stdout",
     "output_type": "stream",
     "text": [
      "Time difference of 12.75591 secs\n"
     ]
    }
   ],
   "source": [
    "st = Sys.time()\n",
    "fgseaRes <- fgsea(pathways = gmt,\n",
    "                  stats    = signature,\n",
    "                  eps      = 0.0,\n",
    "                  minSize  = 5,\n",
    "                  maxSize  = 4000)\n",
    "\n",
    "print(Sys.time() - st)"
   ]
  },
  {
   "cell_type": "markdown",
   "metadata": {},
   "source": [
    "# Consistency\n",
    "\n",
    "Compare consistency of log p-values."
   ]
  },
  {
   "cell_type": "code",
   "execution_count": 16,
   "metadata": {},
   "outputs": [],
   "source": [
    "ll = readLines(\"test/KEGG_2019_Mouse.txt\")\n",
    "genes = list()\n",
    "gmt = list()\n",
    "for(l in ll){\n",
    "    sp = unlist(strsplit(l, \"\\t\"))\n",
    "    pname = sp[1]\n",
    "    gmt[[pname]] = sp[3:length(sp)]\n",
    "}"
   ]
  },
  {
   "cell_type": "code",
   "execution_count": null,
   "metadata": {},
   "outputs": [],
   "source": [
    "res = list()\n",
    "for(i in 1:10){\n",
    "    fgseaRes <- fgsea(pathways = gmt,\n",
    "                      stats    = signature,\n",
    "                      minSize  = 5,\n",
    "                      maxSize  = 4000\n",
    "                      )\n",
    "    res[[length(res)+1]] = log(fgseaRes[,\"pval\"])\n",
    "}"
   ]
  },
  {
   "cell_type": "markdown",
   "metadata": {},
   "source": [
    "## Calulate error\n",
    "\n",
    "The calculated p-value error will be used in the p-value consistency benchmark notebook to compare GSEApy, blitzGSEA, and fGSEA"
   ]
  },
  {
   "cell_type": "code",
   "execution_count": 44,
   "metadata": {},
   "outputs": [
    {
     "name": "stdout",
     "output_type": "stream",
     "text": [
      "[1] 296  10\n"
     ]
    },
    {
     "data": {
      "text/html": [
       "'0.00261250354614742,0.00274601095318889,0.00268698398862981,0.00254896856733903,0.0028239254670881,0.00255107983368626,0.00266219682016753,0.00248607221489015,0.00294916957896707,0.00300309821889459'"
      ],
      "text/latex": [
       "'0.00261250354614742,0.00274601095318889,0.00268698398862981,0.00254896856733903,0.0028239254670881,0.00255107983368626,0.00266219682016753,0.00248607221489015,0.00294916957896707,0.00300309821889459'"
      ],
      "text/markdown": [
       "'0.00261250354614742,0.00274601095318889,0.00268698398862981,0.00254896856733903,0.0028239254670881,0.00255107983368626,0.00266219682016753,0.00248607221489015,0.00294916957896707,0.00300309821889459'"
      ],
      "text/plain": [
       "[1] \"0.00261250354614742,0.00274601095318889,0.00268698398862981,0.00254896856733903,0.0028239254670881,0.00255107983368626,0.00266219682016753,0.00248607221489015,0.00294916957896707,0.00300309821889459\""
      ]
     },
     "metadata": {},
     "output_type": "display_data"
    }
   ],
   "source": [
    "pp=do.call(cbind, res)\n",
    "print(dim(pp))\n",
    "ee=(1-cor(pp))\n",
    "diag(ee) = NaN\n",
    "paste(unlist(rowMeans(ee,  na.rm=T)), collapse=\",\")\n"
   ]
  }
 ],
 "metadata": {
  "kernelspec": {
   "display_name": "R",
   "language": "R",
   "name": "ir"
  },
  "language_info": {
   "codemirror_mode": "r",
   "file_extension": ".r",
   "mimetype": "text/x-r-source",
   "name": "R",
   "pygments_lexer": "r",
   "version": "4.1.1"
  }
 },
 "nbformat": 4,
 "nbformat_minor": 4
}
