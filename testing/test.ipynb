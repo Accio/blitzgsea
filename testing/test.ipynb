{
 "cells": [
  {
   "cell_type": "code",
   "execution_count": 5,
   "source": [
    "!pip3 install -q --user --force git+https://github.com/MaayanLab/blitzgsea.git"
   ],
   "outputs": [
    {
     "output_type": "stream",
     "name": "stderr",
     "text": [
      "  WARNING: The script f2py.exe is installed in 'C:\\Users\\Rubberchicken\\AppData\\Roaming\\Python\\Python38\\Scripts' which is not on PATH.\n",
      "  Consider adding this directory to PATH or, if you prefer to suppress this warning, use --no-warn-script-location.\n",
      "ERROR: After October 2020 you may experience errors when installing or updating packages. This is because pip will change the way that it resolves dependency conflicts.\n",
      "\n",
      "We recommend you use --use-feature=2020-resolver to test your packages with the new resolver before it becomes the default.\n",
      "\n",
      "tensorflow 2.3.0 requires absl-py>=0.7.0, which is not installed.\n",
      "tensorflow 2.3.0 requires gast==0.3.3, which is not installed.\n",
      "tensorflow 2.3.0 requires grpcio>=1.8.6, which is not installed.\n",
      "tensorflow 2.3.0 requires keras-preprocessing<1.2,>=1.1.1, which is not installed.\n",
      "tensorflow 2.3.0 requires opt-einsum>=2.3.2, which is not installed.\n",
      "tensorflow 2.3.0 requires protobuf>=3.9.2, which is not installed.\n",
      "tensorflow 2.3.0 requires tensorboard<3,>=2.3.0, which is not installed.\n",
      "tensorflow 2.3.0 requires tensorflow-estimator<2.4.0,>=2.3.0, which is not installed.\n",
      "tensorflow 2.3.0 requires termcolor>=1.1.0, which is not installed.\n",
      "gpt2-client 2.1.5 requires termcolor, which is not installed.\n",
      "tensorflow 2.3.0 requires numpy<1.19.0,>=1.16.0, but you'll have numpy 1.21.2 which is incompatible.\n",
      "tensorflow 2.3.0 requires scipy==1.4.1, but you'll have scipy 1.7.1 which is incompatible.\n",
      "lazypredict 0.2.9 requires joblib==1.0.0, but you'll have joblib 1.0.1 which is incompatible.\n",
      "lazypredict 0.2.9 requires numpy==1.19.1, but you'll have numpy 1.21.2 which is incompatible.\n",
      "lazypredict 0.2.9 requires pandas==1.0.5, but you'll have pandas 1.3.3 which is incompatible.\n",
      "lazypredict 0.2.9 requires scikit-learn==0.23.1, but you'll have scikit-learn 0.24.2 which is incompatible.\n",
      "lazypredict 0.2.9 requires scipy==1.5.4, but you'll have scipy 1.7.1 which is incompatible.\n",
      "lazypredict 0.2.9 requires six==1.15.0, but you'll have six 1.16.0 which is incompatible.\n"
     ]
    }
   ],
   "metadata": {}
  },
  {
   "cell_type": "code",
   "execution_count": 7,
   "source": [
    "import blitzgsea as bgsea"
   ],
   "outputs": [],
   "metadata": {}
  },
  {
   "cell_type": "code",
   "execution_count": null,
   "source": [
    "bgsea.gsea()"
   ],
   "outputs": [],
   "metadata": {}
  }
 ],
 "metadata": {
  "orig_nbformat": 4,
  "language_info": {
   "name": "python",
   "version": "3.8.5",
   "mimetype": "text/x-python",
   "codemirror_mode": {
    "name": "ipython",
    "version": 3
   },
   "pygments_lexer": "ipython3",
   "nbconvert_exporter": "python",
   "file_extension": ".py"
  },
  "kernelspec": {
   "name": "python3",
   "display_name": "Python 3.8.5 64-bit"
  },
  "interpreter": {
   "hash": "60f3b3101667592c150dcbaf93ef24f0a05e4dd4dc38244d9b99f2435a60626a"
  }
 },
 "nbformat": 4,
 "nbformat_minor": 2
}